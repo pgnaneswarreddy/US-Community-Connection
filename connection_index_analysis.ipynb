# Community Connection Index (CCI) Analysis
import pandas as pd
import numpy as np
import matplotlib.pyplot as plt
import statsmodels.api as sm
from sklearn.model_selection import train_test_split
from sklearn.linear_model import LinearRegression
from sklearn.metrics import r2_score, mean_squared_error

# Load dataset
df = pd.read_csv('community_data.csv')
print(df.head())

# Fill missing CCI by linear combination (example simulation)
df['community_index'] = 0.4*df['volunteering_rate'] - 0.2*df['social_media_hours'] + 0.3*df['family_time_hrs'] + 0.1*df['happiness_index'] + np.random.normal(0,0.2,len(df))

# Regression model: CCI ~ volunteering + social_media + family_time + happiness
X = df[['volunteering_rate','social_media_hours','family_time_hrs','happiness_index']]
y = df['community_index']
X = sm.add_constant(X)
model = sm.OLS(y, X).fit()
print(model.summary())

# Train/test validation
X_train, X_test, y_train, y_test = train_test_split(df[['volunteering_rate','social_media_hours','family_time_hrs','happiness_index']], y, test_size=0.2, random_state=42)
lr = LinearRegression().fit(X_train, y_train)
y_pred = lr.predict(X_test)
print("R2 Score:", r2_score(y_test, y_pred))
print("RMSE:", np.sqrt(mean_squared_error(y_test, y_pred)))

# Visualization: volunteering vs community_index
plt.figure(figsize=(7,5))
plt.scatter(df['volunteering_rate'], df['community_index'], color='green')
plt.xlabel('Volunteering Rate (%)')
plt.ylabel('Community Connection Index (CCI)')
plt.title('Volunteering vs Community Connection Strength')
plt.grid(True)
plt.show()

# Save results
with open('model_results.txt','w') as f:
    f.write('R2 Score: {:.3f}\n'.format(r2_score(y_test, y_pred)))
    f.write('RMSE: {:.3f}\n'.format(np.sqrt(mean_squared_error(y_test, y_pred))))
    f.write('\nOLS Summary:\n'+str(model.summary()))
